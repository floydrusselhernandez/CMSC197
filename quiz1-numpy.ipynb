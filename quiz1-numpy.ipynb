{
 "cells": [
  {
   "cell_type": "markdown",
   "id": "f66d97cc",
   "metadata": {},
   "source": [
    "<a class=\"anchor\" id=\"Part 1\"></a>\n",
    "\n",
    "# Part 1"
   ]
  },
  {
   "cell_type": "code",
   "execution_count": 37,
   "id": "8b195792",
   "metadata": {},
   "outputs": [
    {
     "name": "stdout",
     "output_type": "stream",
     "text": [
      "%pylab is deprecated, use %matplotlib inline and import the required libraries.\n",
      "Populating the interactive namespace from numpy and matplotlib\n"
     ]
    }
   ],
   "source": [
    "%pylab inline"
   ]
  },
  {
   "cell_type": "markdown",
   "id": "c1ccaaea",
   "metadata": {},
   "source": [
    "<a class=\"anchor\" id=\"Creating 2D Arrays\"></a>\n",
    "\n",
    "## Creating 2D Arrays"
   ]
  },
  {
   "cell_type": "code",
   "execution_count": 36,
   "id": "31dbb608",
   "metadata": {},
   "outputs": [
    {
     "data": {
      "text/plain": [
       "array([-1.        , -0.89473684, -0.78947368, -0.68421053, -0.57894737,\n",
       "       -0.47368421, -0.36842105, -0.26315789, -0.15789474, -0.05263158,\n",
       "        0.05263158,  0.15789474,  0.26315789,  0.36842105,  0.47368421,\n",
       "        0.57894737,  0.68421053,  0.78947368,  0.89473684,  1.        ])"
      ]
     },
     "execution_count": 36,
     "metadata": {},
     "output_type": "execute_result"
    }
   ],
   "source": [
    "#Making a linearly spaced numbers for y_hat\n",
    "y_hat = linspace(-1, 1, 20)\n",
    "y_hat"
   ]
  },
  {
   "cell_type": "code",
   "execution_count": 40,
   "id": "6effa04b",
   "metadata": {},
   "outputs": [
    {
     "data": {
      "text/plain": [
       "array([0.        , 0.05263158, 0.10526316, 0.15789474, 0.21052632,\n",
       "       0.26315789, 0.31578947, 0.36842105, 0.42105263, 0.47368421,\n",
       "       0.52631579, 0.57894737, 0.63157895, 0.68421053, 0.73684211,\n",
       "       0.78947368, 0.84210526, 0.89473684, 0.94736842, 1.        ])"
      ]
     },
     "execution_count": 40,
     "metadata": {},
     "output_type": "execute_result"
    }
   ],
   "source": [
    "#Making a linearly spaced numbers for y\n",
    "y = linspace(0, 1, 20)\n",
    "y"
   ]
  },
  {
   "cell_type": "code",
   "execution_count": 53,
   "id": "c868196d",
   "metadata": {},
   "outputs": [
    {
     "data": {
      "text/plain": [
       "array([ 0.1       ,  0.1274275 ,  0.16237767,  0.20691381,  0.26366509,\n",
       "        0.33598183,  0.42813324,  0.54555948,  0.6951928 ,  0.88586679,\n",
       "        1.12883789,  1.43844989,  1.83298071,  2.33572147,  2.97635144,\n",
       "        3.79269019,  4.83293024,  6.15848211,  7.8475997 , 10.        ])"
      ]
     },
     "execution_count": 53,
     "metadata": {},
     "output_type": "execute_result"
    }
   ],
   "source": [
    "#Making a logarithmically spaced numbers for y_hat\n",
    "y_hat = np.logspace (-1,1,20)\n",
    "logy_hat = y_hat\n",
    "log_y_hat"
   ]
  },
  {
   "cell_type": "code",
   "execution_count": 57,
   "id": "0c41d58b",
   "metadata": {},
   "outputs": [
    {
     "data": {
      "text/plain": [
       "array([ 1.        ,  1.12883789,  1.27427499,  1.43844989,  1.62377674,\n",
       "        1.83298071,  2.06913808,  2.33572147,  2.6366509 ,  2.97635144,\n",
       "        3.35981829,  3.79269019,  4.2813324 ,  4.83293024,  5.45559478,\n",
       "        6.15848211,  6.95192796,  7.8475997 ,  8.8586679 , 10.        ])"
      ]
     },
     "execution_count": 57,
     "metadata": {},
     "output_type": "execute_result"
    }
   ],
   "source": [
    "#Making a logarithmically spaced numbers for y\n",
    "y = logspace (0,1,20)\n",
    "log_y = y\n",
    "log_y"
   ]
  },
  {
   "cell_type": "code",
   "execution_count": 13,
   "id": "24d46d16",
   "metadata": {},
   "outputs": [
    {
     "data": {
      "text/plain": [
       "array([[-1.        , -0.89473684, -0.78947368, -0.68421053],\n",
       "       [-0.57894737, -0.47368421, -0.36842105, -0.26315789],\n",
       "       [-0.15789474, -0.05263158,  0.05263158,  0.15789474],\n",
       "       [ 0.26315789,  0.36842105,  0.47368421,  0.57894737],\n",
       "       [ 0.68421053,  0.78947368,  0.89473684,  1.        ]])"
      ]
     },
     "execution_count": 13,
     "metadata": {},
     "output_type": "execute_result"
    }
   ],
   "source": [
    "#Reshaping y_hat into a 5x4 matrix \n",
    "a = y_hat.reshape(5,4)\n",
    "a"
   ]
  },
  {
   "cell_type": "code",
   "execution_count": 70,
   "id": "210d3f29",
   "metadata": {},
   "outputs": [
    {
     "data": {
      "text/plain": [
       "1"
      ]
     },
     "execution_count": 70,
     "metadata": {},
     "output_type": "execute_result"
    }
   ],
   "source": [
    "#Dimension of y_hat\n",
    "y_hat.ndim"
   ]
  },
  {
   "cell_type": "code",
   "execution_count": 71,
   "id": "17ca8d58",
   "metadata": {},
   "outputs": [
    {
     "data": {
      "text/plain": [
       "(20,)"
      ]
     },
     "execution_count": 71,
     "metadata": {},
     "output_type": "execute_result"
    }
   ],
   "source": [
    "#Shape of y_hat\n",
    "y_hat.shape"
   ]
  },
  {
   "cell_type": "code",
   "execution_count": 18,
   "id": "9e34e52a",
   "metadata": {},
   "outputs": [
    {
     "data": {
      "text/plain": [
       "1"
      ]
     },
     "execution_count": 18,
     "metadata": {},
     "output_type": "execute_result"
    }
   ],
   "source": [
    "#Dimension of y\n",
    "y.ndim"
   ]
  },
  {
   "cell_type": "code",
   "execution_count": 16,
   "id": "87bd825c",
   "metadata": {},
   "outputs": [
    {
     "data": {
      "text/plain": [
       "(20,)"
      ]
     },
     "execution_count": 16,
     "metadata": {},
     "output_type": "execute_result"
    }
   ],
   "source": [
    "#Shape of y\n",
    "y.shape"
   ]
  },
  {
   "cell_type": "code",
   "execution_count": 17,
   "id": "122cf5ce",
   "metadata": {},
   "outputs": [
    {
     "data": {
      "text/plain": [
       "array([[0.        , 0.05263158, 0.10526316, 0.15789474],\n",
       "       [0.21052632, 0.26315789, 0.31578947, 0.36842105],\n",
       "       [0.42105263, 0.47368421, 0.52631579, 0.57894737],\n",
       "       [0.63157895, 0.68421053, 0.73684211, 0.78947368],\n",
       "       [0.84210526, 0.89473684, 0.94736842, 1.        ]])"
      ]
     },
     "execution_count": 17,
     "metadata": {},
     "output_type": "execute_result"
    }
   ],
   "source": [
    "#Reshaping y into a 5x4 matrix \n",
    "b = y.reshape(5,4)\n",
    "b"
   ]
  },
  {
   "cell_type": "markdown",
   "id": "6fdf71b3",
   "metadata": {},
   "source": [
    "<a class=\"anchor\" id=\"Mean Squared Error\"></a>\n",
    "\n",
    "\n",
    "## Mean Squared Error\n"
   ]
  },
  {
   "cell_type": "code",
   "execution_count": 27,
   "id": "5d6846ec",
   "metadata": {},
   "outputs": [
    {
     "name": "stdout",
     "output_type": "stream",
     "text": [
      "0.3421052631578948\n"
     ]
    }
   ],
   "source": [
    "#Computing for Mean Squared Error\n",
    "def mean_squared_error(act, pred):\n",
    "\n",
    "   diff = pred - act\n",
    "   differences_squared = diff ** 2\n",
    "   mean_diff = differences_squared.mean()\n",
    "   \n",
    "   return mean_diff\n",
    "\n",
    "act = y_hat\n",
    "pred = y\n",
    "\n",
    "print(mean_squared_error(act,pred))"
   ]
  },
  {
   "cell_type": "markdown",
   "id": "bb07eccb",
   "metadata": {},
   "source": [
    "<a class=\"anchor\" id=\"Mean Absolute Error\"></a>\n",
    "\n",
    "\n",
    "## Mean Absolute Error\n"
   ]
  },
  {
   "cell_type": "code",
   "execution_count": 25,
   "id": "cf21395a",
   "metadata": {},
   "outputs": [
    {
     "data": {
      "text/plain": [
       "0.4999999999999999"
      ]
     },
     "execution_count": 25,
     "metadata": {},
     "output_type": "execute_result"
    }
   ],
   "source": [
    "#Mean Absolute Error\n",
    "def mean_absolute_error(act, pred):\n",
    "    diff = pred - act\n",
    "    abs_diff = np.absolute(diff)\n",
    "    mean_diff = abs_diff.mean()\n",
    "    return mean_diff\n",
    "\n",
    "act = y_hat\n",
    "pred = y\n",
    "mean_absolute_error(act,pred)"
   ]
  },
  {
   "cell_type": "markdown",
   "id": "d7d66e5f",
   "metadata": {},
   "source": [
    "<a class=\"anchor\" id=\"Mean Squared Logarithmic Error\"></a>\n",
    "\n",
    "\n",
    "## Mean Squared Logarithmic Error\n"
   ]
  },
  {
   "cell_type": "code",
   "execution_count": 60,
   "id": "e7b775b1",
   "metadata": {},
   "outputs": [
    {
     "name": "stdout",
     "output_type": "stream",
     "text": [
      "3.277651867667945\n"
     ]
    }
   ],
   "source": [
    "#Mean Squared Logarithmic Error\n",
    "def mean_squared_log_error(act, pred):\n",
    "\n",
    "    diff = pred - act\n",
    "    differences_squared = diff ** 2\n",
    "    mean_diff = differences_squared.mean()\n",
    "    return mean_diff\n",
    "\n",
    "act = log_y_hat\n",
    "pred = log_y\n",
    "\n",
    "print(mean_squared_log_error(act,pred))"
   ]
  },
  {
   "cell_type": "markdown",
   "id": "c8eab009",
   "metadata": {},
   "source": [
    "<a class=\"anchor\" id=\"Mean Absolute Percentage Error\"></a>\n",
    "\n",
    "\n",
    "## Mean Absolute Percentage Error\n"
   ]
  },
  {
   "cell_type": "code",
   "execution_count": 61,
   "id": "4366521d",
   "metadata": {},
   "outputs": [
    {
     "data": {
      "text/plain": [
       "168.80031916553312"
      ]
     },
     "execution_count": 61,
     "metadata": {},
     "output_type": "execute_result"
    }
   ],
   "source": [
    "#Mean Absolute Percentage Error\n",
    "def mean_absolute_percentage_error(act, pred):\n",
    "    diff = pred - act\n",
    "    abs_diff = np.absolute(diff)\n",
    "    mean_diff = abs_diff.mean()*100\n",
    "    return mean_diff\n",
    "\n",
    "act = y_hat\n",
    "pred = y\n",
    "mean_absolute_percentage_error(act,pred)"
   ]
  },
  {
   "cell_type": "markdown",
   "id": "9771478e",
   "metadata": {},
   "source": [
    "<a class=\"anchor\" id=\"Part 2\"></a>\n",
    "\n",
    "# Part 2"
   ]
  },
  {
   "cell_type": "markdown",
   "id": "25e8ac1e",
   "metadata": {},
   "source": [
    "## Making a 1D Array"
   ]
  },
  {
   "cell_type": "code",
   "execution_count": 66,
   "id": "d0ce5fb3",
   "metadata": {},
   "outputs": [
    {
     "data": {
      "text/plain": [
       "array([ 1,  2,  3,  4,  5,  6,  7,  8,  9, 10, 11, 12, 13, 14, 15, 16])"
      ]
     },
     "execution_count": 66,
     "metadata": {},
     "output_type": "execute_result"
    }
   ],
   "source": [
    "#Making a 1D Array using arange function\n",
    "M = np.arange(1,17)\n",
    "M"
   ]
  },
  {
   "cell_type": "code",
   "execution_count": 67,
   "id": "d43b4d57",
   "metadata": {},
   "outputs": [
    {
     "data": {
      "text/plain": [
       "(16,)"
      ]
     },
     "execution_count": 67,
     "metadata": {},
     "output_type": "execute_result"
    }
   ],
   "source": [
    "#Shape of M\n",
    "M.shape"
   ]
  },
  {
   "cell_type": "markdown",
   "id": "ad88e6cd",
   "metadata": {},
   "source": [
    "## Reshaping the Array into a 4x4 matrix"
   ]
  },
  {
   "cell_type": "code",
   "execution_count": 69,
   "id": "b79e3348",
   "metadata": {},
   "outputs": [
    {
     "data": {
      "text/plain": [
       "array([[ 1,  2,  3,  4],\n",
       "       [ 5,  6,  7,  8],\n",
       "       [ 9, 10, 11, 12],\n",
       "       [13, 14, 15, 16]])"
      ]
     },
     "execution_count": 69,
     "metadata": {},
     "output_type": "execute_result"
    }
   ],
   "source": [
    "#Reshaping M into a 4x4 matrix\n",
    "N = M.reshape (4,4)\n",
    "N"
   ]
  },
  {
   "cell_type": "code",
   "execution_count": 78,
   "id": "c60a89a8",
   "metadata": {},
   "outputs": [
    {
     "data": {
      "text/plain": [
       "array([[5, 6, 7, 8]])"
      ]
     },
     "execution_count": 78,
     "metadata": {},
     "output_type": "execute_result"
    }
   ],
   "source": [
    "#Get the 2nd row of N\n",
    "N[1:2]"
   ]
  },
  {
   "cell_type": "markdown",
   "id": "9400fa27",
   "metadata": {},
   "source": [
    "## Getting the Minimum Values"
   ]
  },
  {
   "cell_type": "code",
   "execution_count": 79,
   "id": "cd2c6aa6",
   "metadata": {},
   "outputs": [
    {
     "data": {
      "text/plain": [
       "array([1, 2, 3, 4])"
      ]
     },
     "execution_count": 79,
     "metadata": {},
     "output_type": "execute_result"
    }
   ],
   "source": [
    "#Get the min for each column of N\n",
    "np.min(N, axis = 0)"
   ]
  },
  {
   "cell_type": "markdown",
   "id": "c1be6c16",
   "metadata": {},
   "source": [
    "## Getting the locations of the Minimum Values"
   ]
  },
  {
   "cell_type": "code",
   "execution_count": 82,
   "id": "f5599b85",
   "metadata": {},
   "outputs": [
    {
     "data": {
      "text/plain": [
       "array([0, 0, 0, 0], dtype=int64)"
      ]
     },
     "execution_count": 82,
     "metadata": {},
     "output_type": "execute_result"
    }
   ],
   "source": [
    "#Get the locations of the min values for each column of N\n",
    "np.argmin(N, axis=0)"
   ]
  },
  {
   "cell_type": "markdown",
   "id": "a2de7f46",
   "metadata": {},
   "source": [
    "## Getting the Average"
   ]
  },
  {
   "cell_type": "code",
   "execution_count": 83,
   "id": "733db291",
   "metadata": {},
   "outputs": [
    {
     "data": {
      "text/plain": [
       "8.5"
      ]
     },
     "execution_count": 83,
     "metadata": {},
     "output_type": "execute_result"
    }
   ],
   "source": [
    "#Get the average of the whole matrix\n",
    "np.mean(N)"
   ]
  },
  {
   "cell_type": "markdown",
   "id": "50463680",
   "metadata": {},
   "source": [
    "## Creating a Vector"
   ]
  },
  {
   "cell_type": "code",
   "execution_count": 99,
   "id": "df91b8ba",
   "metadata": {},
   "outputs": [
    {
     "data": {
      "text/plain": [
       "array([1, 1, 1, 1])"
      ]
     },
     "execution_count": 99,
     "metadata": {},
     "output_type": "execute_result"
    }
   ],
   "source": [
    "#Creating a vector with 1 on each element\n",
    "V = np.ones((4), dtype = 'int32')\n",
    "V"
   ]
  },
  {
   "cell_type": "markdown",
   "id": "1fcab72c",
   "metadata": {},
   "source": [
    "## Dot Product of N and V"
   ]
  },
  {
   "cell_type": "code",
   "execution_count": 100,
   "id": "72892a32",
   "metadata": {},
   "outputs": [
    {
     "data": {
      "text/plain": [
       "array([10, 26, 42, 58])"
      ]
     },
     "execution_count": 100,
     "metadata": {},
     "output_type": "execute_result"
    }
   ],
   "source": [
    "#Dot product of N and V\n",
    "np.dot(N, V)"
   ]
  }
 ],
 "metadata": {
  "kernelspec": {
   "display_name": "Python 3 (ipykernel)",
   "language": "python",
   "name": "python3"
  },
  "language_info": {
   "codemirror_mode": {
    "name": "ipython",
    "version": 3
   },
   "file_extension": ".py",
   "mimetype": "text/x-python",
   "name": "python",
   "nbconvert_exporter": "python",
   "pygments_lexer": "ipython3",
   "version": "3.9.12"
  }
 },
 "nbformat": 4,
 "nbformat_minor": 5
}
